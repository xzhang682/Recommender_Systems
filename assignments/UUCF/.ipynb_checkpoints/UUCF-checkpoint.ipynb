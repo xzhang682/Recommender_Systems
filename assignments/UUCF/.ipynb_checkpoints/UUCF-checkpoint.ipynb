{
 "cells": [
  {
   "cell_type": "code",
   "execution_count": 112,
   "metadata": {},
   "outputs": [],
   "source": [
    "import pandas as pd\n",
    "import numpy as np\n",
    "from scipy import stats"
   ]
  },
  {
   "cell_type": "markdown",
   "metadata": {},
   "source": [
    "#### Read Excel sheets"
   ]
  },
  {
   "cell_type": "code",
   "execution_count": 88,
   "metadata": {},
   "outputs": [],
   "source": [
    "df1 = pd.read_excel (r'./UUCF-Assignment-Spreadsheet.xls',sheet_name='movie-row')\n",
    "df2 = pd.read_excel (r'./UUCF-Assignment-Spreadsheet.xls',sheet_name='user-row')\n",
    "df3 = pd.read_excel (r'./UUCF-Assignment-Spreadsheet.xls',sheet_name='correlations')\n",
    "df1 = df1.replace(np.nan, 0);\n",
    "df2 = df2.replace(np.nan, 0);\n",
    "df3 = df3.replace(np.nan, 0);"
   ]
  },
  {
   "cell_type": "markdown",
   "metadata": {},
   "source": [
    "#### Compute User-User correlations\n",
    "\n",
    "Formula can be checked in https://en.wikipedia.org/wiki/Collaborative_filtering"
   ]
  },
  {
   "cell_type": "code",
   "execution_count": 270,
   "metadata": {},
   "outputs": [],
   "source": [
    "UserList = list(df3.columns)[1:]\n",
    "ItemList = list(df2.columns)[1:]\n",
    "numUsers = len(UserList)\n",
    "numItems = len(ItemList)\n",
    "UserRows = {UserList[i]: i for i in range(numUsers)}\n",
    "ItemRows = {ItemList[i]: i for i in range(numItems)}"
   ]
  },
  {
   "cell_type": "code",
   "execution_count": 255,
   "metadata": {
    "scrolled": true
   },
   "outputs": [
    {
     "name": "stderr",
     "output_type": "stream",
     "text": [
      "<ipython-input-255-2b530ddb1132>:10: SettingWithCopyWarning: \n",
      "A value is trying to be set on a copy of a slice from a DataFrame\n",
      "\n",
      "See the caveats in the documentation: https://pandas.pydata.org/pandas-docs/stable/user_guide/indexing.html#returning-a-view-versus-a-copy\n",
      "  df3[user1][UserRows[user2]] = np.dot(array1, array2)/np.linalg.norm(array1)/np.linalg.norm(array2)\n"
     ]
    },
    {
     "name": "stdout",
     "output_type": "stream",
     "text": [
      "1.0\n",
      "0.40298018845699635\n",
      "-0.31706324373711403\n",
      "5 closest neighbors to User 3712:  [2824, 3867, 5062, 442, 3853]\n",
      "5 closest neighbors to User 3867:  [2492, 3853, 2486, 3712, 2288]\n",
      "5 closest neighbors to User 89:  [4809, 5136, 860, 5062, 3525]\n"
     ]
    }
   ],
   "source": [
    "for user1 in UserList:\n",
    "    for user2 in UserList:\n",
    "        array1, array2 = [], []\n",
    "        for i in range(len(ItemList)):\n",
    "            if df1[user1].array[i] != 0 and df1[user2].array[i] != 0:\n",
    "                array1.append(df1[user1].array[i])\n",
    "                array2.append(df1[user2].array[i])\n",
    "        array1 = array1-np.mean(array1)\n",
    "        array2 = array2-np.mean(array2)\n",
    "        df3[user1][UserRows[user2]] = np.dot(array1, array2)/np.linalg.norm(array1)/np.linalg.norm(array2)\n",
    "\n",
    "# some checkings\n",
    "print(df3[1648][UserRows[1648]])\n",
    "print(df3[1648][UserRows[5136]])\n",
    "print(df3[918][UserRows[2824]])\n",
    "\n",
    "# print results\n",
    "print('5 closest neighbors to User 3712: ', [UserList[i] for i in np.argsort(-df3[3712].array)[1:6]])\n",
    "print('5 closest neighbors to User 3867: ', [UserList[i] for i in np.argsort(-df3[3867].array)[1:6]])\n",
    "print('5 closest neighbors to User 89: ', [UserList[i] for i in np.argsort(-df3[89].array)[1:6]])"
   ]
  },
  {
   "cell_type": "markdown",
   "metadata": {},
   "source": [
    "#### Predicted scores\n",
    "Predict scores by taking the correlation-weighted average of the ratings of the top-five neighbors (for each target user) for each movie.\n",
    "\n",
    "$$\\frac{\\sum_{n=1}^5 r_n w_n}{\\sum_{n=1}^5 w_n}$$\n",
    "\n",
    "The weight for each contributed rating is the user-user correlation when that neighbor has rated the movie, but 0 when the neighbor has not rated the movie)."
   ]
  },
  {
   "cell_type": "code",
   "execution_count": 337,
   "metadata": {},
   "outputs": [
    {
     "name": "stdout",
     "output_type": "stream",
     "text": [
      "Top  1  item is  238: The Godfather (1972) \n",
      "score:  4.894\n",
      "Top  2  item is  278: The Shawshank Redemption (1994) \n",
      "score:  4.882\n",
      "Top  3  item is  807: Seven (a.k.a. Se7en) (1995) \n",
      "score:  4.774\n",
      "Top  4  item is  275: Fargo (1996) \n",
      "score:  4.771\n",
      "Top  5  item is  424: Schindler's List (1993) \n",
      "score:  4.729\n",
      "Top  6  item is  122: The Lord of the Rings: The Return of the King (2003) \n",
      "score:  4.696\n",
      "Top  7  item is  13: Forrest Gump (1994) \n",
      "score:  4.601\n",
      "Top  8  item is  38: Eternal Sunshine of the Spotless Mind (2004) \n",
      "score:  4.551\n",
      "Top  9  item is  453: A Beautiful Mind (2001) \n",
      "score:  4.543\n",
      "Top  10  item is  120: The Lord of the Rings: The Fellowship of the Ring (2001) \n",
      "score:  4.528\n",
      "Top  11  item is  121: The Lord of the Rings: The Two Towers (2002) \n",
      "score:  4.528\n",
      "Top  12  item is  105: Back to the Future (1985) \n",
      "score:  4.521\n"
     ]
    }
   ],
   "source": [
    "user = 89\n",
    "neighbor_rates, neighbor_weights = [], []\n",
    "for neighbor in [UserList[i] for i in np.argsort(-df3[user].array)[1:6]]:\n",
    "    neighbor_rates.append(df1[neighbor])\n",
    "    neighbor_weights.append(df3[user].array[UserRows[neighbor]])\n",
    "user_rates = []\n",
    "for item in range(numItems):\n",
    "    temp_rate, temp_weight = 0, 0\n",
    "    for neighbor in range(5):\n",
    "        if neighbor_rates[neighbor][item] != 0:\n",
    "            temp_weight += neighbor_weights[neighbor]\n",
    "            temp_rate += neighbor_rates[neighbor][item]*neighbor_weights[neighbor]\n",
    "    if temp_weight != 0:\n",
    "        user_rates.append(temp_rate/temp_weight)\n",
    "    else: \n",
    "        user_rates.append(0)\n",
    "\n",
    "# print k results\n",
    "k = 12;\n",
    "count = 1\n",
    "for topitem in np.argsort(-np.array(user_rates))[:k]:\n",
    "    print('Top ', count, ' item is ', ItemList[topitem], '\\n'+'score: ', round(user_rates[topitem],3))\n",
    "    count += 1"
   ]
  },
  {
   "cell_type": "markdown",
   "metadata": {},
   "source": [
    "#### Predicted scores with normalization\n",
    "Formula is\n",
    "$$\\bar{r}_u + \\frac{\\sum_{n=1}^5 (r_n - \\bar{r}_n) w_n}{\\sum_{n=1}^5 w_n}$$\n"
   ]
  },
  {
   "cell_type": "code",
   "execution_count": 341,
   "metadata": {},
   "outputs": [
    {
     "name": "stdout",
     "output_type": "stream",
     "text": [
      "Top  1  item is  238: The Godfather (1972) \n",
      "score:  5.322\n",
      "Top  2  item is  278: The Shawshank Redemption (1994) \n",
      "score:  5.261\n",
      "Top  3  item is  275: Fargo (1996) \n",
      "score:  5.241\n"
     ]
    }
   ],
   "source": [
    "user = 89\n",
    "neighbors = np.argsort(-df3[user].array)[1:6]\n",
    "neighbor_rates, neighbor_weights = [], []\n",
    "for neighbor in [UserList[i] for i in neighbors]:\n",
    "    neighbor_rates.append(df1[neighbor])\n",
    "    neighbor_weights.append(df3[user].array[UserRows[neighbor]])\n",
    "user_rates = []\n",
    "rubar = np.sum(df1[user].array)/np.count_nonzero(df1[user].array)\n",
    "rnbars = [np.sum(df1[UserList[nei]].array)/np.count_nonzero(df1[UserList[nei]].array) for nei in neighbors]\n",
    "for item in range(numItems):\n",
    "    temp_rate, temp_weight = 0, 0\n",
    "    for neighbor in range(5):\n",
    "        if neighbor_rates[neighbor][item] != 0:\n",
    "            temp_weight += neighbor_weights[neighbor]\n",
    "            temp_rate += (neighbor_rates[neighbor][item]-rnbars[neighbor])*neighbor_weights[neighbor]\n",
    "    if temp_weight != 0:\n",
    "        user_rates.append(temp_rate/temp_weight + rubar)\n",
    "    else: \n",
    "        user_rates.append(0)\n",
    "\n",
    "# print k results\n",
    "k = 3;\n",
    "count = 1\n",
    "for topitem in np.argsort(-np.array(user_rates))[:k]:\n",
    "    print('Top ', count, ' item is ', ItemList[topitem], '\\n'+'score: ', round(user_rates[topitem],3))\n",
    "    count += 1"
   ]
  },
  {
   "cell_type": "code",
   "execution_count": 342,
   "metadata": {},
   "outputs": [
    {
     "name": "stdout",
     "output_type": "stream",
     "text": [
      "Top  1  item is  238: The Godfather (1972) \n",
      "score:  4.76\n",
      "Top  2  item is  424: Schindler's List (1993) \n",
      "score:  4.663\n",
      "Top  3  item is  134: O Brother Where Art Thou? (2000) \n",
      "score:  4.585\n"
     ]
    }
   ],
   "source": [
    "user = 3525\n",
    "neighbors = np.argsort(-df3[user].array)[1:6]\n",
    "neighbor_rates, neighbor_weights = [], []\n",
    "for neighbor in [UserList[i] for i in neighbors]:\n",
    "    neighbor_rates.append(df1[neighbor])\n",
    "    neighbor_weights.append(df3[user].array[UserRows[neighbor]])\n",
    "user_rates = []\n",
    "rubar = np.sum(df1[user].array)/np.count_nonzero(df1[user].array)\n",
    "rnbars = [np.sum(df1[UserList[nei]].array)/np.count_nonzero(df1[UserList[nei]].array) for nei in neighbors]\n",
    "for item in range(numItems):\n",
    "    temp_rate, temp_weight = 0, 0\n",
    "    for neighbor in range(5):\n",
    "        if neighbor_rates[neighbor][item] != 0:\n",
    "            temp_weight += neighbor_weights[neighbor]\n",
    "            temp_rate += (neighbor_rates[neighbor][item]-rnbars[neighbor])*neighbor_weights[neighbor]\n",
    "    if temp_weight != 0:\n",
    "        user_rates.append(temp_rate/temp_weight + rubar)\n",
    "    else: \n",
    "        user_rates.append(0)\n",
    "\n",
    "# print k results\n",
    "k = 3;\n",
    "count = 1\n",
    "for topitem in np.argsort(-np.array(user_rates))[:k]:\n",
    "    print('Top ', count, ' item is ', ItemList[topitem], '\\n'+'score: ', round(user_rates[topitem],3))\n",
    "    count += 1"
   ]
  },
  {
   "cell_type": "code",
   "execution_count": null,
   "metadata": {},
   "outputs": [],
   "source": []
  }
 ],
 "metadata": {
  "kernelspec": {
   "display_name": "Python 3",
   "language": "python",
   "name": "python3"
  },
  "language_info": {
   "codemirror_mode": {
    "name": "ipython",
    "version": 3
   },
   "file_extension": ".py",
   "mimetype": "text/x-python",
   "name": "python",
   "nbconvert_exporter": "python",
   "pygments_lexer": "ipython3",
   "version": "3.8.3"
  }
 },
 "nbformat": 4,
 "nbformat_minor": 4
}
